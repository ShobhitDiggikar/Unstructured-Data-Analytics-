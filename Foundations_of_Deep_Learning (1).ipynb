{
 "cells": [
  {
   "cell_type": "markdown",
   "id": "cd76a9aa",
   "metadata": {},
   "source": [
    "## Exercise 1 (Gradient Descent)"
   ]
  },
  {
   "cell_type": "markdown",
   "id": "4d283b25",
   "metadata": {},
   "source": [
    "* In this assignment, you will first use the gradient descent algorithm to find the optimal value of w1 which minimizes the given cost function (Steps 1.1 through 1.5). You will earn 5% points for each step and 25% in total.\n",
    "\n",
    "* You will run the algorithm for 4 different scenarios, each with a different value of alpha. For each scenario, you will log the responses in the last cell of this notebook (Step 1.6). You will earn 5% points for each scenario and 20%  in total."
   ]
  },
  {
   "cell_type": "code",
   "execution_count": 4,
   "id": "8e6ab856",
   "metadata": {},
   "outputs": [],
   "source": [
    "# DO NOT edit this cell!\n",
    "# You must use this cost function and its derivative as-is\n",
    "\n",
    "# cost at particular value of w1\n",
    "def calc_J(w1):\n",
    "    return (5.5*w1*w1 - 1463*w1 + 100812.5)\n",
    "\n",
    "# slope at particular value of w1\n",
    "def calc_dJ_dw1(w1):\n",
    "    return (11*w1 - 1463)"
   ]
  },
  {
   "cell_type": "code",
   "execution_count": 5,
   "id": "5cfc10ff",
   "metadata": {},
   "outputs": [
    {
     "name": "stdout",
     "output_type": "stream",
     "text": [
      "Initial w1: 60 Initial J: 32832.5\n",
      "Iteration: 1 Updated w1: 100.15 Updated J: 9458.17\n",
      "Iteration: 2 Updated w1: 118.22 Updated J: 4724.87\n",
      "Iteration: 3 Updated w1: 126.35 Updated J: 3766.38\n",
      "Iteration: 4 Updated w1: 130.01 Updated J: 3572.28\n",
      "Iteration: 5 Updated w1: 131.65 Updated J: 3532.98\n",
      "Iteration: 6 Updated w1: 132.39 Updated J: 3525.02\n",
      "Iteration: 7 Updated w1: 132.73 Updated J: 3523.41\n",
      "Iteration: 8 Updated w1: 132.88 Updated J: 3523.08\n",
      "Iteration: 9 Updated w1: 132.94 Updated J: 3523.02\n",
      "Iteration: 10 Updated w1: 132.98 Updated J: 3523.0\n",
      "Iteration: 11 Updated w1: 132.99 Updated J: 3523.0\n",
      "Iteration: 12 Updated w1: 132.99 Updated J: 3523.0\n",
      "Iteration: 13 Updated w1: 133.0 Updated J: 3523.0\n",
      "Iteration: 14 Updated w1: 133.0 Updated J: 3523.0\n",
      "Iteration: 15 Updated w1: 133.0 Updated J: 3523.0\n",
      "Iteration: 16 Updated w1: 133.0 Updated J: 3523.0\n",
      "Iteration: 17 Updated w1: 133.0 Updated J: 3523.0\n",
      "Iteration: 18 Updated w1: 133.0 Updated J: 3523.0\n",
      "Iteration: 19 Updated w1: 133.0 Updated J: 3523.0\n",
      "Iteration: 20 Updated w1: 133.0 Updated J: 3523.0\n",
      "Iteration: 21 Updated w1: 133.0 Updated J: 3523.0\n",
      "Iteration: 22 Updated w1: 133.0 Updated J: 3523.0\n",
      "Iteration: 23 Updated w1: 133.0 Updated J: 3523.0\n",
      "Iteration: 24 Updated w1: 133.0 Updated J: 3523.0\n",
      "Iteration: 25 Updated w1: 133.0 Updated J: 3523.0\n"
     ]
    }
   ],
   "source": [
    "# First, complete coding Steps 1.1 through 1.5 in this cell.\n",
    "# Then, run this cell for each of the four scenarios below,\n",
    "# and log your responses for each scenario run in the next cell (Step 1.6)\n",
    "alpha=0.08; niterations = 25; w1 = 60 # Scenario 1\n",
    "# alpha=0.05; niterations = 25; w1 = 60 # Scenario 2\n",
    "# alpha=0.15; niterations = 25; w1 = 60 # Scenario 3\n",
    "# alpha=0.19; niterations = 25; w1 = 60 # Scenario 4\n",
    "\n",
    "# Set initial parameters: alpha (learning rate), number of iterations, initial value of w1\n",
    "alpha = 0.05\n",
    "niterations = 25\n",
    "w1 = 60\n",
    "\n",
    "# Step 1.1: Calculate initial value of J at current value of w1\n",
    "J = calc_J(w1)\n",
    "\n",
    "# Step 1.2: Print initial values of w1 and J\n",
    "print(\"Initial w1:\", round(w1, 2), \"Initial J:\", round(J, 2))\n",
    "\n",
    "# Perform gradient descent for niterations\n",
    "for i in range(niterations):\n",
    "    # Step 1.3: Update value of w1 using gradient descent\n",
    "    w1 = w1 - alpha * calc_dJ_dw1(w1)\n",
    "\n",
    "    # Step 1.4: Calculate new value of J at updated w1\n",
    "    J = calc_J(w1)\n",
    "\n",
    "    # Step 1.5: Print updated values of w1 and J\n",
    "    print(\"Iteration:\", i+1, \"Updated w1:\", round(w1, 2), \"Updated J:\", round(J, 2))\n"
   ]
  },
  {
   "cell_type": "markdown",
   "id": "5243a534",
   "metadata": {},
   "source": [
    "# Step 1.6 for scenario 1:\n",
    "\n",
    "## Scenario 1 (alpha=0.08; niterations = 25; w1 = 60):\n",
    "### did the cost steadily decrease as training progressed?\n",
    "ANS : Yes, the cost gradually lowered as the program continued. The starting cost was 32832.5 and had dropped dramatically by the first iteration to 3945.06, continuing to fall until it reached 3523.0 by the fourth iteration. Following this, the cost remained unchanged.\n",
    "\n",
    "### did the gradient descent algorithm converge?\n",
    "ANS : Yes, the gradient descent algorithm did converge. This is evident from the cost stabilizing at 3523.0 and the value of w1  stabilizing at 133.0 from the 5th iteration onwards, indicating that further iterations did not result in significant changes  to the cost or the value of w1.\n",
    "\n",
    "### what is the minimum cost?\n",
    "ANS : The minimum cost is approximately 3523.0.\n",
    "\n",
    "### what is the optimal value of w1?\n",
    "ANS : The optimal value of w1 is approximately 133.0.\n",
    "\n",
    "### In how many iterations did gradient descent converge (at which row # in the output)?\n",
    "ANS : The gradient descent algorithm reached convergence by the 5th iteration, as evidenced by the stability of the cost function and the value of \\( w1 \\) from that point onward. Therefore, we can consider convergence to have happened at the row labeled \"Iteration: 5\" in the output. Beyond this iteration, there were no substantial changes in either \\( w1 \\) or the cost function \\( J \\), suggesting that the algorithm has found a minimum (or is very near to it) and additional iterations do not lead to further enhancement.\n"
   ]
  },
  {
   "cell_type": "code",
   "execution_count": 6,
   "id": "87bc91f2",
   "metadata": {},
   "outputs": [
    {
     "name": "stdout",
     "output_type": "stream",
     "text": [
      "Initial w1: 60 Initial J: 32832.5\n",
      "Iteration: 1 Updated w1: 100.15 Updated J: 9458.17\n",
      "Iteration: 2 Updated w1: 118.22 Updated J: 4724.87\n",
      "Iteration: 3 Updated w1: 126.35 Updated J: 3766.38\n",
      "Iteration: 4 Updated w1: 130.01 Updated J: 3572.28\n",
      "Iteration: 5 Updated w1: 131.65 Updated J: 3532.98\n",
      "Iteration: 6 Updated w1: 132.39 Updated J: 3525.02\n",
      "Iteration: 7 Updated w1: 132.73 Updated J: 3523.41\n",
      "Iteration: 8 Updated w1: 132.88 Updated J: 3523.08\n",
      "Iteration: 9 Updated w1: 132.94 Updated J: 3523.02\n",
      "Iteration: 10 Updated w1: 132.98 Updated J: 3523.0\n",
      "Iteration: 11 Updated w1: 132.99 Updated J: 3523.0\n",
      "Iteration: 12 Updated w1: 132.99 Updated J: 3523.0\n",
      "Iteration: 13 Updated w1: 133.0 Updated J: 3523.0\n",
      "Iteration: 14 Updated w1: 133.0 Updated J: 3523.0\n",
      "Iteration: 15 Updated w1: 133.0 Updated J: 3523.0\n",
      "Iteration: 16 Updated w1: 133.0 Updated J: 3523.0\n",
      "Iteration: 17 Updated w1: 133.0 Updated J: 3523.0\n",
      "Iteration: 18 Updated w1: 133.0 Updated J: 3523.0\n",
      "Iteration: 19 Updated w1: 133.0 Updated J: 3523.0\n",
      "Iteration: 20 Updated w1: 133.0 Updated J: 3523.0\n",
      "Iteration: 21 Updated w1: 133.0 Updated J: 3523.0\n",
      "Iteration: 22 Updated w1: 133.0 Updated J: 3523.0\n",
      "Iteration: 23 Updated w1: 133.0 Updated J: 3523.0\n",
      "Iteration: 24 Updated w1: 133.0 Updated J: 3523.0\n",
      "Iteration: 25 Updated w1: 133.0 Updated J: 3523.0\n"
     ]
    }
   ],
   "source": [
    "# Scenario 2 with alpha = 0.05\n",
    "\n",
    "# First, complete coding Steps 1.1 through 1.5 in this cell.\n",
    "# Then, run this cell for each of the four scenarios below,\n",
    "# and log your responses for each scenario run in the next cell (Step 1.6)\n",
    "#alpha=0.08; niterations = 25; w1 = 60 # Scenario 1\n",
    "alpha=0.05; niterations = 25; w1 = 60 # Scenario 2\n",
    "#alpha=0.15; niterations = 25; w1 = 60 # Scenario 3\n",
    "#alpha=0.19; niterations = 25; w1 = 60 # Scenario 4\n",
    "\n",
    "# Calculate initial value of J at initial value of w1\n",
    "J = calc_J(w1)\n",
    "\n",
    "# Print initial values of w1 and J\n",
    "print(\"Initial w1:\", round(w1, 2), \"Initial J:\", round(J, 2))\n",
    "\n",
    "# Perform gradient descent for specified number of iterations\n",
    "for i in range(niterations):\n",
    "    # Update w1 using gradient descent update rule\n",
    "    w1 = w1 - alpha * calc_dJ_dw1(w1)\n",
    "    \n",
    "    # Calculate new value of J at updated w1\n",
    "    J = calc_J(w1)\n",
    "    \n",
    "    # Print iteration details: iteration number, updated w1, updated J\n",
    "    print(\"Iteration:\", i+1, \"Updated w1:\", round(w1, 2), \"Updated J:\", round(J, 2))\n"
   ]
  },
  {
   "cell_type": "markdown",
   "id": "aad3b548",
   "metadata": {},
   "source": [
    "# Step 1.6 for Scenario 2 :\n",
    "\n",
    "## Scenario 2 (alpha=0.05; niterations = 25; w1 = 60):\n",
    "### did the cost steadily decrease as training progressed?\n",
    "ANS : Yes, the cost consistantly decreased as training progressed. It initiated from 32832.5 and decreased with every iteration, indicating that the gradient descent algorithm was effectively minimizing the cost function.\n",
    "### did the gradient descent algorithm converge?\n",
    "ANS : Yes, the gradient descent algorithm converged. This is shown by the fact that from iteration 11 onwards, there were no significant changes in the cost value, which stabilized at 3523.0, and the value of w1also stabilized at around 133.0.\n",
    "### what is the minimum cost?\n",
    "ANS : The min. cost is approx. 3523.0.\n",
    "### what is the optimal value of w1?\n",
    "ANS : The optimal value of w1 is approximately 133.0.\n",
    "### in how many iterations did gradient descent converge (at which row # in the output)?\n",
    "ANS : The gradient descent algorithm is deemed to have effectively converged by the 10th iteration. At this point, \\( w1 \\) reached 132.98 and the cost function reached 3523.0. Although minor adjustments to \\( w1 \\) were observed in the 11th iteration, reaching 132.99, and finally a fully rounded 133.0 by the 13th iteration, the cost function remained stable at 3523.0 from the 10th iteration onward. Therefore, it's reasonable to consider the 10th iteration as the convergence point, given that subsequent changes are negligible and do not significantly affect the cost value.\n"
   ]
  },
  {
   "cell_type": "code",
   "execution_count": 7,
   "id": "5a9883fa",
   "metadata": {},
   "outputs": [
    {
     "name": "stdout",
     "output_type": "stream",
     "text": [
      "Initial w1: 60 Initial J: 32832.5\n",
      "Iteration: 1 Updated w1: 180.45 Updated J: 15906.26\n",
      "Iteration: 2 Updated w1: 102.16 Updated J: 8754.93\n",
      "Iteration: 3 Updated w1: 153.05 Updated J: 5733.49\n",
      "Iteration: 4 Updated w1: 119.97 Updated J: 4456.93\n",
      "Iteration: 5 Updated w1: 141.47 Updated J: 3917.59\n",
      "Iteration: 6 Updated w1: 127.49 Updated J: 3689.71\n",
      "Iteration: 7 Updated w1: 136.58 Updated J: 3593.44\n",
      "Iteration: 8 Updated w1: 130.67 Updated J: 3552.76\n",
      "Iteration: 9 Updated w1: 134.51 Updated J: 3535.57\n",
      "Iteration: 10 Updated w1: 132.02 Updated J: 3528.31\n",
      "Iteration: 11 Updated w1: 133.64 Updated J: 3525.24\n",
      "Iteration: 12 Updated w1: 132.58 Updated J: 3523.95\n",
      "Iteration: 13 Updated w1: 133.27 Updated J: 3523.4\n",
      "Iteration: 14 Updated w1: 132.82 Updated J: 3523.17\n",
      "Iteration: 15 Updated w1: 133.11 Updated J: 3523.07\n",
      "Iteration: 16 Updated w1: 132.93 Updated J: 3523.03\n",
      "Iteration: 17 Updated w1: 133.05 Updated J: 3523.01\n",
      "Iteration: 18 Updated w1: 132.97 Updated J: 3523.01\n",
      "Iteration: 19 Updated w1: 133.02 Updated J: 3523.0\n",
      "Iteration: 20 Updated w1: 132.99 Updated J: 3523.0\n",
      "Iteration: 21 Updated w1: 133.01 Updated J: 3523.0\n",
      "Iteration: 22 Updated w1: 132.99 Updated J: 3523.0\n",
      "Iteration: 23 Updated w1: 133.0 Updated J: 3523.0\n",
      "Iteration: 24 Updated w1: 133.0 Updated J: 3523.0\n",
      "Iteration: 25 Updated w1: 133.0 Updated J: 3523.0\n"
     ]
    }
   ],
   "source": [
    "# Scenario 3 with alpha = 0.15\n",
    "\n",
    "# First, complete coding Steps 1.1 through 1.5 in this cell.\n",
    "# Then, run this cell for each of the four scenarios below,\n",
    "# and log your responses for each scenario run in the next cell (Step 1.6)\n",
    "#alpha=0.08; niterations = 25; w1 = 60 # Scenario 1\n",
    "#alpha=0.05; niterations = 25; w1 = 60 # Scenario 2\n",
    "alpha=0.15; niterations = 25; w1 = 60 # Scenario 3\n",
    "#alpha=0.19; niterations = 25; w1 = 60 # Scenario 4\n",
    "\n",
    "# Calculate initial value of J at initial value of w1\n",
    "J = calc_J(w1)\n",
    "\n",
    "# Print initial values of w1 and J\n",
    "print(\"Initial w1:\", round(w1, 2), \"Initial J:\", round(J, 2))\n",
    "\n",
    "# Perform gradient descent for specified number of iterations\n",
    "for i in range(niterations):\n",
    "    # Update w1 using gradient descent update rule\n",
    "    w1 = w1 - alpha * calc_dJ_dw1(w1)\n",
    "    \n",
    "    # Calculate new value of J at updated w1\n",
    "    J = calc_J(w1)\n",
    "    \n",
    "    # Print iteration details: iteration number, updated w1, updated J\n",
    "    print(\"Iteration:\", i+1, \"Updated w1:\", round(w1, 2), \"Updated J:\", round(J, 2))\n"
   ]
  },
  {
   "cell_type": "markdown",
   "id": "2d2b37de",
   "metadata": {},
   "source": [
    "# Step 1.6 for Scenario 3 :\n",
    "## Scenario 3 (alpha=0.15; niterations = 25; w1 = 60)\n",
    "\n",
    "### did the cost steadily decrease as training progressed?\n",
    "ANS : Yes, the cost gradually lowered as the program continued. The output shows that the value of J (the cost) reduces from 32832.5 to 3523.0 throughout the course of 25 rounds.\n",
    "### did the gradient descent algorithm converge?\n",
    "ANS : Yes, the gradient descent algorithm did converge. This is evident from the fact that the updates to w1 and the cost J1 become very small and eventually stabilize around a specific value (133.0 for w1 and 3523.0 for J).\n",
    "### what is the minimum cost?\n",
    "ANS : The minimum cost reached in the output is 3523.0.\n",
    "### what is the optimal value of w1?\n",
    "ANS : The optimal value of w1 based on the output is 133.0.\n",
    "### in how many iterations did gradient descent converge (at which row # in the output)?\n",
    "ANS : The determination of exact convergence is rather subjective because it depends on how one defines \"convergence.\" After iteration 21, modifications to w1 are within 0.01 of the final value, while cost J remains consistent at 3523.0. Thus, iteration 21 might be considered to be the point at which the algorithm successfully converges. However, the exact row where it is considered to have \"converged\" may differ depending on the specific convergence criteria used (e.g., a change in J smaller than a minuscule threshold). Given the output, a conservative point of convergence may be chosen at iteration 21, which corresponds to the row with \"Iteration: 21\" in the output."
   ]
  },
  {
   "cell_type": "code",
   "execution_count": 8,
   "id": "0d1918da",
   "metadata": {},
   "outputs": [
    {
     "name": "stdout",
     "output_type": "stream",
     "text": [
      "Initial w1: 60 Initial J: 32832.5\n",
      "Iteration: 1 Updated w1: 212.57 Updated J: 38345.62\n",
      "Iteration: 2 Updated w1: 46.27 Updated J: 44895.75\n",
      "Iteration: 3 Updated w1: 227.54 Updated J: 52677.97\n",
      "Iteration: 4 Updated w1: 29.95 Updated J: 61924.01\n",
      "Iteration: 5 Updated w1: 245.32 Updated J: 72909.25\n",
      "Iteration: 6 Updated w1: 10.57 Updated J: 85960.8\n",
      "Iteration: 7 Updated w1: 266.45 Updated J: 101467.35\n",
      "Iteration: 8 Updated w1: -12.46 Updated J: 119890.68\n",
      "Iteration: 9 Updated w1: 291.55 Updated J: 141779.44\n",
      "Iteration: 10 Updated w1: -39.82 Updated J: 167785.48\n",
      "Iteration: 11 Updated w1: 321.37 Updated J: 198683.25\n",
      "Iteration: 12 Updated w1: -72.32 Updated J: 235392.89\n",
      "Iteration: 13 Updated w1: 356.8 Updated J: 279007.62\n",
      "Iteration: 14 Updated w1: -110.95 Updated J: 330826.28\n",
      "Iteration: 15 Updated w1: 398.9 Updated J: 392392.02\n",
      "Iteration: 16 Updated w1: -156.83 Updated J: 465538.29\n",
      "Iteration: 17 Updated w1: 448.92 Updated J: 552443.36\n",
      "Iteration: 18 Updated w1: -211.35 Updated J: 655695.28\n",
      "Iteration: 19 Updated w1: 508.34 Updated J: 778368.89\n",
      "Iteration: 20 Updated w1: -276.12 Updated J: 924117.4\n",
      "Iteration: 21 Updated w1: 578.94 Updated J: 1097281.2\n",
      "Iteration: 22 Updated w1: -353.08 Updated J: 1303017.12\n",
      "Iteration: 23 Updated w1: 662.82 Updated J: 1547451.97\n",
      "Iteration: 24 Updated w1: -444.51 Updated J: 1837865.0\n",
      "Iteration: 25 Updated w1: 762.48 Updated J: 2182904.73\n"
     ]
    }
   ],
   "source": [
    "# Scenario 4 with alpha = 0.19\n",
    "\n",
    "# First, complete coding Steps 1.1 through 1.5 in this cell.\n",
    "# Then, run this cell for each of the four scenarios below,\n",
    "# and log your responses for each scenario run in the next cell (Step 1.6)\n",
    "#alpha=0.08; niterations = 25; w1 = 60 # Scenario 1\n",
    "#alpha=0.05; niterations = 25; w1 = 60 # Scenario 2\n",
    "#alpha=0.15; niterations = 25; w1 = 60 # Scenario 3\n",
    "alpha=0.19; niterations = 25; w1 = 60 # Scenario 4\n",
    "\n",
    "# Compute initial value of J at the current value of w1\n",
    "J = calc_J(w1)\n",
    "\n",
    "# Display initial values of w1 and J rounded to two decimal places\n",
    "print(\"Initial w1:\", round(w1, 2), \"Initial J:\", round(J, 2))\n",
    "\n",
    "# Perform gradient descent for the specified number of iterations\n",
    "for i in range(niterations):\n",
    "    # Update the value of w1 using the gradient descent formula\n",
    "    w1 = w1 - alpha * calc_dJ_dw1(w1)\n",
    "    \n",
    "    # Calculate the new value of J at the updated value of w1\n",
    "    J = calc_J(w1)\n",
    "    \n",
    "    # Display the iteration number, updated w1, and updated J rounded to two decimal places\n",
    "    print(\"Iteration:\", i+1, \"Updated w1:\", round(w1, 2), \"Updated J:\", round(J, 2))\n",
    "\n"
   ]
  },
  {
   "cell_type": "markdown",
   "id": "5233b060",
   "metadata": {},
   "source": [
    "# Step 1.6 for Scenario 4:\n",
    "## Scenario 4 (alpha=0.19; niterations = 25; w1 = 60)\n",
    "\n",
    "### did the cost steadily decrease as training progressed?\n",
    "ANS : No, the cost did not gradually drop as the program went. Instead, the cost rose with each iteration, implying that the gradient descent process was diverging rather than converging to a minimum.\n",
    "### did the gradient descent algorithm converge?\n",
    "ANS : No, the gradient descent algorithm did not converge. The cost increased significantly with each iteration, and the value of w1 oscillated between positive and negative values, getting larger in magnitude each time. This is a clear indication of divergence.\n",
    "### what is the minimum cost?\n",
    "ANS : Based on the provided output, the minimum cost was at the initial state, 32832.5, before any iterations of gradient descent were performed. After the first iteration, the cost increased with each step.\n",
    "### what is the optimal value of w1?\n",
    "ANS : Given the algorithm did not converge and instead diverged, there is no optimal value of w1 provided in the output. The changes in w1 values indicate that the learning rate might have been too high or the gradient descent was not properly implemented for the problem at hand.\n",
    "### in how many iterations did gradient descent converge (at which row # in the output)?\n",
    "ANS : The gradient descent did not converge within the provided 25 iterations. Instead, it exhibited a clear pattern of divergence, with the cost increasing and w1 values oscillating more widely as iterations progressed."
   ]
  },
  {
   "cell_type": "markdown",
   "id": "d71fe5d5",
   "metadata": {},
   "source": [
    "## Exercise 2 (Single Neuron)"
   ]
  },
  {
   "cell_type": "markdown",
   "id": "3d1b2035",
   "metadata": {},
   "source": [
    "### Then, you will apply deep learning thinking in modeling a single neuron to build logistic regression and linear regression models. You need also to Apply the idea of vectorization to efficiently train your models and implement gradient descent from scratch (using multiple iterations of the forward pass, backward propagation, and gradient descent steps) to minimize the loss functions and determine model parameters.\n",
    "\n",
    "### Specifically, there are two parts in this assignment:\n",
    "* In the first part, you will train a logistic regression model using the breast cancer data set. This part has 7 parts (2.1.1 through 2.1.7) that you will need to code (see framework for more details).\n",
    "* In the second part, you will train a linear regression model using the diabetes data set. This part has 7 parts (2.2.1 through 2.2.7) that you will need to code (see framework for more details)."
   ]
  },
  {
   "cell_type": "code",
   "execution_count": 9,
   "id": "b993ac53",
   "metadata": {},
   "outputs": [],
   "source": [
    "### DO NOT EDIT THIS CELL!!!\n",
    "### DO NOT IMPORT ANY ADDITIONAL PACKAGES\n",
    "\n",
    "import numpy as np\n",
    "import scipy\n",
    "from sklearn import metrics\n",
    "import matplotlib.pyplot as plt\n",
    "%matplotlib inline"
   ]
  },
  {
   "cell_type": "markdown",
   "id": "abfc6286",
   "metadata": {},
   "source": [
    "**PART 1\n",
    "Logistic Regression for Binary Classification using the breast cancer dataset**\n",
    "\n",
    "We aren't going to preprocess data or split into train/test since the focus here is purely on the gradient descent algorithm\n",
    "\n",
    "NOTE: YOU WILL ONLY EDIT ONE CELL FOR PART-1 (SEE BELOW) (5% for each step, but 25% in total)\n",
    "\n",
    "#"
   ]
  },
  {
   "cell_type": "code",
   "execution_count": 10,
   "id": "eeb0ff25",
   "metadata": {},
   "outputs": [
    {
     "name": "stdout",
     "output_type": "stream",
     "text": [
      "X:  (569, 30)\n",
      "y:  (569, 1)\n",
      "m:  569\n",
      "n:  30\n",
      "features:  ['mean radius' 'mean texture' 'mean perimeter' 'mean area'\n",
      " 'mean smoothness' 'mean compactness' 'mean concavity'\n",
      " 'mean concave points' 'mean symmetry' 'mean fractal dimension'\n",
      " 'radius error' 'texture error' 'perimeter error' 'area error'\n",
      " 'smoothness error' 'compactness error' 'concavity error'\n",
      " 'concave points error' 'symmetry error' 'fractal dimension error'\n",
      " 'worst radius' 'worst texture' 'worst perimeter' 'worst area'\n",
      " 'worst smoothness' 'worst compactness' 'worst concavity'\n",
      " 'worst concave points' 'worst symmetry' 'worst fractal dimension']\n"
     ]
    }
   ],
   "source": [
    "### DO NOT EDIT THIS CELL!!!\n",
    "\n",
    "# read the breast cancer dataset from sklearn\n",
    "from sklearn.datasets import load_breast_cancer\n",
    "\n",
    "dataset = load_breast_cancer()\n",
    "\n",
    "# feature matrix X: mxn\n",
    "X = dataset.data\n",
    "print (\"X: \", X.shape)\n",
    "\n",
    "# target vector y: mx1\n",
    "y = dataset.target\n",
    "y = y.reshape(y.shape[0], 1)\n",
    "print (\"y: \", y.shape)\n",
    "\n",
    "# number of samples: m\n",
    "m = X.shape[0]\n",
    "print (\"m: \", m)\n",
    "\n",
    "# number of features: n\n",
    "n = X.shape[1]\n",
    "features = dataset.feature_names\n",
    "print (\"n: \",n)\n",
    "print (\"features: \", features)"
   ]
  },
  {
   "cell_type": "code",
   "execution_count": 11,
   "id": "82eaa9e7",
   "metadata": {},
   "outputs": [
    {
     "name": "stdout",
     "output_type": "stream",
     "text": [
      "Accuracy: 0.9191564147627417\n"
     ]
    },
    {
     "data": {
      "image/png": "[encoded data removed]",
      "text/plain": [
       "<Figure size 640x480 with 1 Axes>"
      ]
     },
     "metadata": {},
     "output_type": "display_data"
    }
   ],
   "source": [
    "### THIS IS THE ONLY CELL YOU MUST EDIT FOR PART-1\n",
    "\n",
    "# train the logistic regression model\n",
    "# Initialize hyperparameters: number of epochs and learning rate\n",
    "nepochs = 5000\n",
    "alpha = 2.5e-6\n",
    "\n",
    "# Initialize model parameters: weight matrix w and bias b\n",
    "w = np.zeros((n, 1))\n",
    "b = 0\n",
    "\n",
    "# Initialize an empty list to collect loss for each iteration\n",
    "costs = []\n",
    "\n",
    "# Iterate through each epoch\n",
    "for epoch in range(nepochs):\n",
    "    \n",
    "    # Forward pass: Calculate current loss using the sigmoid function\n",
    "    z = np.dot(X, w) + b\n",
    "    A = 1 / (1 + np.exp(-z))\n",
    "    cost = -np.mean(y * np.log(A) + (1 - y) * np.log(1 - A))\n",
    "    \n",
    "    # Backward propagation: Calculate the gradient of the loss with respect to parameters\n",
    "    dz = A - y\n",
    "    dw = np.dot(X.T, dz) / m\n",
    "    db = np.mean(dz)\n",
    "    \n",
    "    # Gradient descent: Update parameters\n",
    "    w = w - alpha * dw\n",
    "    b = b - alpha * db\n",
    "    \n",
    "    # Append current loss to the list of costs\n",
    "    if epoch % 100 == 0:\n",
    "        costs.append(cost)\n",
    "\n",
    "# Calculate training accuracy using final parameters w and b\n",
    "z = np.dot(X, w) + b\n",
    "yhat = 1 / (1 + np.exp(-z))\n",
    "yhat = np.round(yhat)\n",
    "accuracy = metrics.accuracy_score(y, yhat)\n",
    "print(f\"Accuracy: {accuracy}\")\n",
    "\n",
    "# Plot cost reduction over iterations\n",
    "plt.plot(costs)\n",
    "plt.xlabel('Iterations (per hundreds)')\n",
    "plt.ylabel('Cost')\n",
    "plt.title('Cost Reduction Over Time')\n",
    "plt.show()\n"
   ]
  },
  {
   "cell_type": "code",
   "execution_count": 12,
   "id": "6a66fb35",
   "metadata": {},
   "outputs": [
    {
     "name": "stdout",
     "output_type": "stream",
     "text": [
      "0.92\n"
     ]
    }
   ],
   "source": [
    "### DO NOT EDIT THIS CELL!!!\n",
    "\n",
    "# compare results from your implementation to that of SGDClassifier\n",
    "# your accuracy score above should match (or be very close to) what you get from here\n",
    "\n",
    "nepochs = 5000\n",
    "alpha = 2.5e-6\n",
    "y = y.reshape(y.shape[0],) # to avoid warning\n",
    "\n",
    "from sklearn.linear_model import SGDClassifier\n",
    "clf = SGDClassifier(loss='log_loss', # loss function for logistic regression\n",
    "                    penalty=None, alpha=0, # no regularization\n",
    "                    max_iter=nepochs, tol=None, # stop based only on nepochs\n",
    "                    shuffle=False, random_state=0, # don't shuffle, use random state to replicate results\n",
    "                    learning_rate='constant', eta0=alpha) # constant learning rate of alpha\n",
    "clf.fit(X,y)\n",
    "print (round(clf.score(X,y),2))\n"
   ]
  },
  {
   "cell_type": "markdown",
   "id": "3506dce4",
   "metadata": {},
   "source": [
    "#### The Logistic regression model achieved an accuracy of 0.91 and the SGD Classifier achieved an accuracy of 0.92. The result of the SGDClassifier is close to that of logistic regression model."
   ]
  },
  {
   "cell_type": "markdown",
   "id": "975a1492",
   "metadata": {},
   "source": [
    "### Part 2\n",
    "\n",
    "* Linear Regression using the diabetes dataset\n",
    "\n",
    "* We aren't going to preprocess data or split  into train/test since the focus here is purely on the gradient descent algorithm\n",
    "\n",
    "* NOTE: YOU WILL ONLY EDIT ONE CELL FOR PART-2 (SEE BELOW) (5% for each step, but 25% in total)"
   ]
  },
  {
   "cell_type": "code",
   "execution_count": 14,
   "id": "88aeffef",
   "metadata": {},
   "outputs": [
    {
     "name": "stdout",
     "output_type": "stream",
     "text": [
      "X:  (442, 10)\n",
      "y:  (442, 1)\n",
      "m:  442\n",
      "n:  10\n",
      "features:  ['age', 'sex', 'bmi', 'bp', 's1', 's2', 's3', 's4', 's5', 's6']\n"
     ]
    }
   ],
   "source": [
    "### DO NOT EDIT THIS CELL!!!\n",
    "\n",
    "# read the diabetes dataset from sklearn\n",
    "from sklearn.datasets import load_diabetes\n",
    "\n",
    "dataset = load_diabetes()\n",
    "\n",
    "# feature matrix X: mxn\n",
    "X = dataset.data\n",
    "print (\"X: \", X.shape)\n",
    "\n",
    "# target vector y: mx1\n",
    "y = dataset.target\n",
    "y = y.reshape(y.shape[0], 1)\n",
    "print (\"y: \", y.shape)\n",
    "\n",
    "# number of samples: m\n",
    "m = X.shape[0]\n",
    "print (\"m: \", m)\n",
    "\n",
    "# number of features: n\n",
    "n = X.shape[1]\n",
    "features = dataset.feature_names\n",
    "print (\"n: \",n)\n",
    "print (\"features: \", features)"
   ]
  },
  {
   "cell_type": "code",
   "execution_count": 15,
   "id": "6e492868",
   "metadata": {},
   "outputs": [
    {
     "name": "stdout",
     "output_type": "stream",
     "text": [
      "Mean Squared Error (MSE): 2880.4940919140995\n",
      "R^2 Score: 0.5142411459934224\n"
     ]
    },
    {
     "data": {
      "image/png": "[encoded data removed]",
      "text/plain": [
       "<Figure size 640x480 with 1 Axes>"
      ]
     },
     "metadata": {},
     "output_type": "display_data"
    }
   ],
   "source": [
    "### THIS IS THE ONLY CELL YOU MUST EDIT FOR PART-2\n",
    "\n",
    "# train the linear regression model\n",
    "\n",
    "# Initialize hyperparameters: number of epochs and learning rate\n",
    "nepochs = 5000\n",
    "alpha = 0.5\n",
    "\n",
    "# Initialize model parameters: weight matrix w and bias b\n",
    "w = np.zeros((n, 1))\n",
    "b = 0\n",
    "\n",
    "# Initialize an empty list to collect loss for each iteration\n",
    "costs = []\n",
    "\n",
    "# Iterate through each epoch\n",
    "for epoch in range(nepochs):\n",
    "    # Forward pass: Calculate current loss using the mean squared error (MSE)\n",
    "    yhat = np.dot(X, w) + b\n",
    "    loss = np.mean((yhat - y) ** 2)\n",
    "\n",
    "    # Backward propagation: Calculate the gradient of the loss with respect to parameters\n",
    "    dw = np.dot(X.T, yhat - y) / m\n",
    "    db = np.sum(yhat - y) / m\n",
    "\n",
    "    # Gradient descent: Update parameters\n",
    "    w -= alpha * dw\n",
    "    b -= alpha * db\n",
    "\n",
    "    # Append current loss to the list of costs\n",
    "    costs.append(loss)\n",
    "\n",
    "# Calculate evaluation metrics using final parameters w and b\n",
    "yhat_final = np.dot(X, w) + b\n",
    "mse = metrics.mean_squared_error(y, yhat_final)\n",
    "r2 = metrics.r2_score(y, yhat_final)\n",
    "print(\"Mean Squared Error (MSE):\", mse)\n",
    "print(\"R^2 Score:\", r2)\n",
    "\n",
    "# Plot cost reduction over iterations\n",
    "plt.plot(costs)\n",
    "plt.xlabel('Iterations')\n",
    "plt.ylabel('Cost')\n",
    "plt.title('Cost vs. Iterations')\n",
    "plt.show()\n"
   ]
  },
  {
   "cell_type": "markdown",
   "id": "0e76453f",
   "metadata": {},
   "source": [
    "The Mean Squared Error (MSE) of my linear regression model closely resembles that of the SGDRegressor below. Additionally, the R-squared value of my linear regression model matches exactly with that of the SGDRegressor below."
   ]
  },
  {
   "cell_type": "code",
   "execution_count": 16,
   "id": "3a25a8a2",
   "metadata": {},
   "outputs": [
    {
     "name": "stdout",
     "output_type": "stream",
     "text": [
      "2922.89\n",
      "0.51\n"
     ]
    }
   ],
   "source": [
    "### DO NOT EDIT THIS CELL!!!\n",
    "\n",
    "# compare results from our implementation to that of SGDRegressor\n",
    "# your mse and r2 score above should match (or be very close to) what you get from here\n",
    "\n",
    "nepochs = 5000\n",
    "alpha = 0.5\n",
    "y = y.reshape(y.shape[0],) # to avoid warning\n",
    "\n",
    "from sklearn.linear_model import SGDRegressor\n",
    "clf = SGDRegressor(loss='squared_error', # mse for linear regression\n",
    "                    penalty=None, alpha=0, # no regularization\n",
    "                    max_iter=nepochs, tol=None, # stop based on only on nepochs\n",
    "                    shuffle=False, random_state=0, # don't shuffle, use random state to replicate results\n",
    "                    learning_rate='constant', eta0=alpha) # constant learning rate of alpha\n",
    "clf.fit(X,y)\n",
    "yhat = clf.predict(X)\n",
    "print (round(metrics.mean_squared_error(y, yhat),2))\n",
    "print (round(clf.score(X,y),2))"
   ]
  },
  {
   "cell_type": "markdown",
   "id": "81643908",
   "metadata": {},
   "source": [
    "\n",
    "I took ChatGPT's help to resolve the errors"
   ]
  },
  {
   "cell_type": "code",
   "execution_count": null,
   "id": "82e805ad",
   "metadata": {},
   "outputs": [],
   "source": []
  }
 ],
 "metadata": {
  "kernelspec": {
   "display_name": "Python 3 (ipykernel)",
   "language": "python",
   "name": "python3"
  },
  "language_info": {
   "codemirror_mode": {
    "name": "ipython",
    "version": 3
   },
   "file_extension": ".py",
   "mimetype": "text/x-python",
   "name": "python",
   "nbconvert_exporter": "python",
   "pygments_lexer": "ipython3",
   "version": "3.11.4"
  }
 },
 "nbformat": 4,
 "nbformat_minor": 5
}
